{
 "cells": [
  {
   "cell_type": "code",
   "execution_count": 7,
   "id": "48cdbeaf-8bf4-4824-b511-2ffa34b400f7",
   "metadata": {},
   "outputs": [],
   "source": [
    "import cv2\n",
    "import mediapipe as mp\n",
    "import numpy as np\n",
    "import time\n",
    "\n",
    "# Initialize Mediapipe utilities\n",
    "mp_drawing = mp.solutions.drawing_utils\n",
    "mp_pose = mp.solutions.pose"
   ]
  },
  {
   "cell_type": "code",
   "execution_count": 8,
   "id": "15618188-b275-4248-918d-31bb56ffef22",
   "metadata": {},
   "outputs": [
    {
     "name": "stdout",
     "output_type": "stream",
     "text": [
      "0\n",
      "1\n",
      "2\n",
      "3\n",
      "4\n",
      "5\n",
      "6\n",
      "7\n",
      "8\n",
      "9\n",
      "10\n",
      "11\n",
      "12\n",
      "13\n",
      "14\n",
      "15\n",
      "16\n",
      "17\n",
      "18\n",
      "19\n",
      "20\n",
      "21\n",
      "22\n",
      "23\n",
      "24\n",
      "25\n",
      "26\n",
      "27\n",
      "28\n",
      "29\n",
      "30\n",
      "31\n",
      "32\n"
     ]
    }
   ],
   "source": [
    "for lndmrk in mp_pose.PoseLandmark:\n",
    "    print(lndmrk)"
   ]
  },
  {
   "cell_type": "code",
   "execution_count": 9,
   "id": "7b6b771c-fbc8-4eb9-9fb8-09a557347bc3",
   "metadata": {},
   "outputs": [],
   "source": [
    "def calculate_angle(a,b,c):\n",
    "    a = np.array(a) # First\n",
    "    b = np.array(b) # Mid\n",
    "    c = np.array(c) # End\n",
    "    \n",
    "    radians = np.arctan2(c[1]-b[1], c[0]-b[0]) - np.arctan2(a[1]-b[1], a[0]-b[0])\n",
    "    angle = np.abs(radians*180.0/np.pi)\n",
    "    \n",
    "    if angle >180.0:\n",
    "        angle = 360-angle\n",
    "        \n",
    "    return angle \n",
    "    "
   ]
  },
  {
   "cell_type": "code",
   "execution_count": 10,
   "id": "81b791ed-31ce-4f87-9780-dd0d8dfd529f",
   "metadata": {},
   "outputs": [],
   "source": [
    "shoulder = [landmarks[mp_pose.PoseLandmark.LEFT_SHOULDER.value].x,landmarks[mp_pose.PoseLandmark.LEFT_SHOULDER.value].y]\n",
    "elbow = [landmarks[mp_pose.PoseLandmark.LEFT_ELBOW.value].x,landmarks[mp_pose.PoseLandmark.LEFT_ELBOW.value].y]\n",
    "wrist = [landmarks[mp_pose.PoseLandmark.LEFT_WRIST.value].x,landmarks[mp_pose.PoseLandmark.LEFT_WRIST.value].y]"
   ]
  },
  {
   "cell_type": "code",
   "execution_count": 11,
   "id": "e454544c-0268-435f-b521-7806fb64be9c",
   "metadata": {
    "scrolled": true
   },
   "outputs": [
    {
     "data": {
      "text/plain": [
       "([0.6606784462928772, 0.8971905708312988],\n",
       " [0.7400370836257935, 1.2955639362335205],\n",
       " [0.5835765600204468, 1.0196843147277832])"
      ]
     },
     "execution_count": 11,
     "metadata": {},
     "output_type": "execute_result"
    }
   ],
   "source": [
    "shoulder, elbow, wrist"
   ]
  },
  {
   "cell_type": "code",
   "execution_count": 12,
   "id": "4984085b-ae42-4fd3-a3b6-f29bc9a2d0a0",
   "metadata": {},
   "outputs": [
    {
     "data": {
      "text/plain": [
       "18.292795951262512"
      ]
     },
     "execution_count": 12,
     "metadata": {},
     "output_type": "execute_result"
    }
   ],
   "source": [
    "calculate_angle(shoulder, elbow, wrist)"
   ]
  },
  {
   "cell_type": "code",
   "execution_count": 13,
   "id": "60f32c6e-f22b-4992-9bcc-a4aedcedd1a0",
   "metadata": {},
   "outputs": [
    {
     "data": {
      "text/plain": [
       "(473, 621)"
      ]
     },
     "execution_count": 13,
     "metadata": {},
     "output_type": "execute_result"
    },
    {
     "ename": "",
     "evalue": "",
     "output_type": "error",
     "traceback": [
      "\u001b[1;31mThe Kernel crashed while executing code in the current cell or a previous cell. \n",
      "\u001b[1;31mPlease review the code in the cell(s) to identify a possible cause of the failure. \n",
      "\u001b[1;31mClick <a href='https://aka.ms/vscodeJupyterKernelCrash'>here</a> for more info. \n",
      "\u001b[1;31mView Jupyter <a href='command:jupyter.viewOutput'>log</a> for further details."
     ]
    }
   ],
   "source": [
    "tuple(np.multiply(elbow, [640, 480]).astype(int))"
   ]
  },
  {
   "cell_type": "code",
   "execution_count": 20,
   "id": "c2a6bab2-be0e-4f3f-b177-da48c8f67ff2",
   "metadata": {},
   "outputs": [
    {
     "name": "stderr",
     "output_type": "stream",
     "text": [
      "I0000 00:00:1739308431.074307  460077 gl_context.cc:369] GL version: 2.1 (2.1 Metal - 89.3), renderer: Apple M2 Pro\n",
      "W0000 00:00:1739308431.145935  462980 inference_feedback_manager.cc:114] Feedback manager requires a model with a single signature inference. Disabling support for feedback tensors.\n",
      "W0000 00:00:1739308431.157910  462980 inference_feedback_manager.cc:114] Feedback manager requires a model with a single signature inference. Disabling support for feedback tensors.\n"
     ]
    },
    {
     "name": "stdout",
     "output_type": "stream",
     "text": [
      "1\n",
      "2\n",
      "3\n",
      "4\n",
      "5\n",
      "6\n",
      "7\n",
      "8\n",
      "9\n",
      "10\n",
      "11\n",
      "12\n",
      "13\n",
      "14\n",
      "15\n",
      "16\n",
      "17\n",
      "18\n",
      "19\n",
      "20\n",
      "21\n",
      "22\n",
      "23\n",
      "24\n",
      "25\n",
      "26\n"
     ]
    },
    {
     "ename": "",
     "evalue": "",
     "output_type": "error",
     "traceback": [
      "\u001b[1;31mThe Kernel crashed while executing code in the current cell or a previous cell. \n",
      "\u001b[1;31mPlease review the code in the cell(s) to identify a possible cause of the failure. \n",
      "\u001b[1;31mClick <a href='https://aka.ms/vscodeJupyterKernelCrash'>here</a> for more info. \n",
      "\u001b[1;31mView Jupyter <a href='command:jupyter.viewOutput'>log</a> for further details."
     ]
    }
   ],
   "source": [
    "cap = cv2.VideoCapture(0)\n",
    "\n",
    "# Curl counter variables\n",
    "counter = 0 \n",
    "stage = None\n",
    "\n",
    "## Setup mediapipe instance\n",
    "with mp_pose.Pose(min_detection_confidence=0.5, min_tracking_confidence=0.5) as pose:\n",
    "    while cap.isOpened():\n",
    "        ret, frame = cap.read()\n",
    "        \n",
    "        # Recolor image to RGB\n",
    "        image = cv2.cvtColor(frame, cv2.COLOR_BGR2RGB)\n",
    "        image.flags.writeable = False\n",
    "      \n",
    "        # Make detection\n",
    "        results = pose.process(image)\n",
    "    \n",
    "        # Recolor back to BGR\n",
    "        image.flags.writeable = True\n",
    "        image = cv2.cvtColor(image, cv2.COLOR_RGB2BGR)\n",
    "        \n",
    "        # Extract landmarks\n",
    "        try:\n",
    "            landmarks = results.pose_landmarks.landmark\n",
    "            \n",
    "            # Get coordinates\n",
    "            shoulder = [landmarks[mp_pose.PoseLandmark.LEFT_SHOULDER.value].x,landmarks[mp_pose.PoseLandmark.LEFT_SHOULDER.value].y]\n",
    "            elbow = [landmarks[mp_pose.PoseLandmark.LEFT_ELBOW.value].x,landmarks[mp_pose.PoseLandmark.LEFT_ELBOW.value].y]\n",
    "            wrist = [landmarks[mp_pose.PoseLandmark.LEFT_WRIST.value].x,landmarks[mp_pose.PoseLandmark.LEFT_WRIST.value].y]\n",
    "            \n",
    "            # Calculate angle\n",
    "            angle = calculate_angle(shoulder, elbow, wrist)\n",
    "            \n",
    "            # Visualize angle\n",
    "            cv2.putText(image, str(angle), \n",
    "                           tuple(np.multiply(elbow, [640, 480]).astype(int)), \n",
    "                           cv2.FONT_HERSHEY_SIMPLEX, 0.5, (255, 255, 255), 2, cv2.LINE_AA\n",
    "                                )\n",
    "            \n",
    "            # Curl counter logic\n",
    "            if angle > 160:\n",
    "                stage = \" down\"\n",
    "            if angle < 30 and stage ==' down':\n",
    "                stage=\" up\"\n",
    "                counter +=1\n",
    "                print(counter)\n",
    "                       \n",
    "        except:\n",
    "            pass\n",
    "        \n",
    "        # Render curl counter\n",
    "        # Setup status box\n",
    "        cv2.rectangle(image, (0,0), (225,73), (245,117,16), -1)\n",
    "        \n",
    "        # Rep data\n",
    "        cv2.putText(image, 'REPS', (15,12), \n",
    "                    cv2.FONT_HERSHEY_SIMPLEX, 0.5, (0,0,0), 1, cv2.LINE_AA)\n",
    "        cv2.putText(image, str(counter), \n",
    "                    (10,60), \n",
    "                    cv2.FONT_HERSHEY_SIMPLEX, 2, (255,255,255), 2, cv2.LINE_AA)\n",
    "        \n",
    "        # Stage data\n",
    "        cv2.putText(image, 'STAGE', (65,12), \n",
    "                    cv2.FONT_HERSHEY_SIMPLEX, 0.5, (0,0,0), 1, cv2.LINE_AA)\n",
    "        cv2.putText(image, stage, \n",
    "                    (60,60), \n",
    "                    cv2.FONT_HERSHEY_SIMPLEX, 2, (255,255,255), 2, cv2.LINE_AA)\n",
    "        \n",
    "        \n",
    "        # Render detections\n",
    "        mp_drawing.draw_landmarks(image, results.pose_landmarks, mp_pose.POSE_CONNECTIONS,\n",
    "                                mp_drawing.DrawingSpec(color=(245,117,66), thickness=2, circle_radius=2), \n",
    "                                mp_drawing.DrawingSpec(color=(245,66,230), thickness=2, circle_radius=2) \n",
    "                                 )               \n",
    "        \n",
    "        cv2.imshow('Mediapipe Feed', image)\n",
    "\n",
    "        if cv2.waitKey(10) & 0xFF == ord('q'):\n",
    "            break\n",
    "\n",
    "    cap.release()\n",
    "    cv2.destroyAllWindows()"
   ]
  },
  {
   "cell_type": "code",
   "execution_count": 13,
   "id": "64df1e44",
   "metadata": {},
   "outputs": [],
   "source": [
    "engine = pyttsx3.init()"
   ]
  },
  {
   "cell_type": "code",
   "execution_count": 14,
   "id": "9559c7bb",
   "metadata": {},
   "outputs": [],
   "source": [
    "exercises = {\n",
    "    \"bicep_curl\": {\"joints\": [\"shoulder\", \"elbow\", \"wrist\"], \"min_angle\": 30, \"max_angle\": 160},\n",
    "    \"squat\": {\"joints\": [\"hip\", \"knee\", \"ankle\"], \"min_angle\": 90, \"max_angle\": 170},\n",
    "    \"push_up\": {\"joints\": [\"shoulder\", \"elbow\", \"wrist\"], \"min_angle\": 70, \"max_angle\": 160}\n",
    "}"
   ]
  },
  {
   "cell_type": "code",
   "execution_count": 15,
   "id": "6e9d307a",
   "metadata": {},
   "outputs": [],
   "source": [
    "exercise_name = input(\"Enter exercise (bicep_curl, squat, push_up): \").strip().lower()\n",
    "if exercise_name not in exercises:\n",
    "    print(\"Invalid exercise. Defaulting to bicep_curl.\")\n",
    "    exercise_name = \"bicep_curl\"\n",
    "exercise = exercises[exercise_name]\n",
    "\n"
   ]
  },
  {
   "cell_type": "code",
   "execution_count": 16,
   "id": "61cf9fb2",
   "metadata": {},
   "outputs": [],
   "source": [
    "# Video capture\n",
    "cap = cv2.VideoCapture(0)"
   ]
  },
  {
   "cell_type": "code",
   "execution_count": 17,
   "id": "74e3a56a",
   "metadata": {},
   "outputs": [],
   "source": [
    "# Exercise Tracking Variables\n",
    "counter = 0\n",
    "stage = None\n",
    "last_feedback = \"\"\n",
    "start_time = time.time()\n",
    "rep_times = []  # Track time per rep\n",
    "angle_ranges = []  # Track range of motion\n"
   ]
  },
  {
   "cell_type": "code",
   "execution_count": 18,
   "id": "0253db9e",
   "metadata": {},
   "outputs": [],
   "source": [
    "def estimate_calories(reps):\n",
    "    return reps * 0.2  # Adjust based on exercise type"
   ]
  },
  {
   "cell_type": "code",
   "execution_count": 1,
   "id": "c5f7e100",
   "metadata": {},
   "outputs": [
    {
     "name": "stderr",
     "output_type": "stream",
     "text": [
      "2025-02-11 20:11:32.355 Python[65347:495270] WARNING: AVCaptureDeviceTypeExternal is deprecated for Continuity Cameras. Please use AVCaptureDeviceTypeContinuityCamera and add NSCameraUseContinuityCameraDeviceType to your Info.plist.\n",
      "WARNING: All log messages before absl::InitializeLog() is called are written to STDERR\n",
      "I0000 00:00:1739322693.625136  495270 gl_context.cc:369] GL version: 2.1 (2.1 Metal - 89.3), renderer: Apple M2 Pro\n",
      "INFO: Created TensorFlow Lite XNNPACK delegate for CPU.\n",
      "W0000 00:00:1739322693.712308  495433 inference_feedback_manager.cc:114] Feedback manager requires a model with a single signature inference. Disabling support for feedback tensors.\n",
      "W0000 00:00:1739322693.726890  495435 inference_feedback_manager.cc:114] Feedback manager requires a model with a single signature inference. Disabling support for feedback tensors.\n",
      "W0000 00:00:1739322693.882972  495437 landmark_projection_calculator.cc:186] Using NORM_RECT without IMAGE_DIMENSIONS is only supported for the square ROI. Provide IMAGE_DIMENSIONS or use PROJECTION_MATRIX.\n",
      "2025-02-11 20:11:34.155 Python[65347:495270] +[IMKClient subclass]: chose IMKClient_Modern\n",
      "2025-02-11 20:11:34.155 Python[65347:495270] +[IMKInputSession subclass]: chose IMKInputSession_Modern\n"
     ]
    },
    {
     "ename": "",
     "evalue": "",
     "output_type": "error",
     "traceback": [
      "\u001b[1;31mThe Kernel crashed while executing code in the current cell or a previous cell. \n",
      "\u001b[1;31mPlease review the code in the cell(s) to identify a possible cause of the failure. \n",
      "\u001b[1;31mClick <a href='https://aka.ms/vscodeJupyterKernelCrash'>here</a> for more info. \n",
      "\u001b[1;31mView Jupyter <a href='command:jupyter.viewOutput'>log</a> for further details."
     ]
    }
   ],
   "source": [
    "import cv2\n",
    "import mediapipe as mp\n",
    "import numpy as np\n",
    "import time\n",
    "\n",
    "mp_drawing = mp.solutions.drawing_utils\n",
    "mp_pose = mp.solutions.pose\n",
    "\n",
    "# Initialize video capture\n",
    "cap = cv2.VideoCapture(0)\n",
    "\n",
    "# Exercise settings (customize as needed)\n",
    "exercise = {\n",
    "    \"joints\": [\"ELBOW\", \"SHOULDER\", \"WRIST\"],  # Example: Adjust as per exercise\n",
    "    \"min_angle\": 30,  # Minimum angle for rep counting\n",
    "    \"max_angle\": 160  # Maximum angle for rep counting\n",
    "}\n",
    "\n",
    "# Function to calculate angles between three points\n",
    "def calculate_angle(a, b, c):\n",
    "    a = np.array(a)  # First joint\n",
    "    b = np.array(b)  # Mid joint\n",
    "    c = np.array(c)  # Last joint\n",
    "\n",
    "    ba = a - b\n",
    "    bc = c - b\n",
    "\n",
    "    cosine_angle = np.dot(ba, bc) / (np.linalg.norm(ba) * np.linalg.norm(bc))\n",
    "    angle = np.arccos(cosine_angle)\n",
    "    return np.degrees(angle)\n",
    "\n",
    "# Function to estimate calories burned (simplified)\n",
    "def estimate_calories(reps):\n",
    "    return reps * 0.5  # Example: Adjust formula as needed\n",
    "\n",
    "# Tracking variables\n",
    "counter = 0\n",
    "stage = None\n",
    "rep_times = []\n",
    "angle_ranges = []\n",
    "last_feedback = \"\"\n",
    "start_time = time.time()\n",
    "\n",
    "# Pose detection\n",
    "with mp_pose.Pose(min_detection_confidence=0.5, min_tracking_confidence=0.5) as pose:\n",
    "    while cap.isOpened():\n",
    "        ret, frame = cap.read()\n",
    "        if not ret:\n",
    "            print(\"Failed to read frame. Exiting...\")\n",
    "            break\n",
    "\n",
    "        image = cv2.cvtColor(frame, cv2.COLOR_BGR2RGB)\n",
    "        image.flags.writeable = False\n",
    "        results = pose.process(image)\n",
    "        image.flags.writeable = True\n",
    "        image = cv2.cvtColor(image, cv2.COLOR_RGB2BGR)\n",
    "\n",
    "        if results.pose_landmarks:\n",
    "            landmarks = results.pose_landmarks.landmark\n",
    "            \n",
    "            # Extract joint coordinates dynamically\n",
    "            joint_names = exercise[\"joints\"]\n",
    "            joint_coords = []\n",
    "            try:\n",
    "                for joint in joint_names:\n",
    "                    landmark_index = getattr(mp_pose.PoseLandmark, f\"LEFT_{joint.upper()}\").value\n",
    "                    joint_coords.append([landmarks[landmark_index].x, landmarks[landmark_index].y])\n",
    "                \n",
    "                # Calculate angle\n",
    "                angle = calculate_angle(*joint_coords)\n",
    "                \n",
    "                # Rep count logic\n",
    "                if angle < exercise[\"min_angle\"] and stage == 'down':\n",
    "                    stage = 'up'\n",
    "                if angle > exercise[\"max_angle\"] and stage == 'up':\n",
    "                    stage = 'down'\n",
    "                    counter += 1\n",
    "                    rep_times.append(time.time())\n",
    "                    angle_ranges.append(angle)\n",
    "                \n",
    "                # Fatigue Detection\n",
    "                if len(rep_times) > 5:\n",
    "                    avg_rep_time = np.mean(np.diff(rep_times[-5:]))  \n",
    "                    motion_range = np.mean(angle_ranges[-5:])  \n",
    "                \n",
    "                # Display rep count, workout time, and calorie estimation\n",
    "                elapsed_time = int(time.time() - start_time)\n",
    "                calories_burned = estimate_calories(counter)\n",
    "                \n",
    "                cv2.putText(image, f'Reps: {counter}', (10, 50), \n",
    "                            cv2.FONT_HERSHEY_SIMPLEX, 1, (0, 255, 0), 2, cv2.LINE_AA)\n",
    "                cv2.putText(image, f'Angle: {int(angle)}', (10, 100), \n",
    "                            cv2.FONT_HERSHEY_SIMPLEX, 1, (255, 255, 0), 2, cv2.LINE_AA)\n",
    "                cv2.putText(image, f'Time: {elapsed_time}s', (10, 150), \n",
    "                            cv2.FONT_HERSHEY_SIMPLEX, 1, (255, 0, 255), 2, cv2.LINE_AA)\n",
    "                cv2.putText(image, f'Calories: {calories_burned:.1f}', (10, 200), \n",
    "                            cv2.FONT_HERSHEY_SIMPLEX, 1, (0, 165, 255), 2, cv2.LINE_AA)\n",
    "\n",
    "                # Form correction feedback\n",
    "                if angle > exercise[\"max_angle\"]:\n",
    "                    feedback = \"Extend fully!\"\n",
    "                    color = (0, 0, 255)\n",
    "                elif angle < exercise[\"min_angle\"]:\n",
    "                    feedback = \"Good form!\"\n",
    "                    color = (0, 255, 0)\n",
    "                else:\n",
    "                    feedback = \"Keep going!\"\n",
    "                    color = (255, 255, 0)\n",
    "                \n",
    "                if feedback != last_feedback:\n",
    "                    last_feedback = feedback\n",
    "                \n",
    "                cv2.putText(image, feedback, (10, 250), \n",
    "                            cv2.FONT_HERSHEY_SIMPLEX, 1, color, 2, cv2.LINE_AA)\n",
    "            except AttributeError:\n",
    "                print(\"Error retrieving joint coordinates. Check joint names.\")\n",
    "\n",
    "            # **Draw Pose Landmarks (Fix for missing blue lines)**\n",
    "            mp_drawing.draw_landmarks(\n",
    "                image, results.pose_landmarks, mp_pose.POSE_CONNECTIONS,\n",
    "                mp_drawing.DrawingSpec(color=(0, 0, 255), thickness=2, circle_radius=3),  \n",
    "                mp_drawing.DrawingSpec(color=(0, 255, 0), thickness=2)\n",
    "            )\n",
    "\n",
    "        # Show image\n",
    "        cv2.imshow('Exercise Tracker', image)\n",
    "        if cv2.waitKey(10) & 0xFF == ord('q'):\n",
    "            break\n",
    "\n",
    "    cap.release()\n",
    "    cv2.destroyAllWindows()\n"
   ]
  }
 ],
 "metadata": {
  "kernelspec": {
   "display_name": "Python 3 (ipykernel)",
   "language": "python",
   "name": "python3"
  },
  "language_info": {
   "codemirror_mode": {
    "name": "ipython",
    "version": 3
   },
   "file_extension": ".py",
   "mimetype": "text/x-python",
   "name": "python",
   "nbconvert_exporter": "python",
   "pygments_lexer": "ipython3",
   "version": "3.12.1"
  }
 },
 "nbformat": 4,
 "nbformat_minor": 5
}
