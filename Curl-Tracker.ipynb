{
 "cells": [
  {
   "cell_type": "code",
   "execution_count": 6,
   "id": "3811b17d",
   "metadata": {},
   "outputs": [],
   "source": [
    "import cv2\n",
    "import mediapipe as mp\n",
    "import numpy as np\n",
    "import time\n",
    "\n",
    "# Initialize MediaPipe Pose\n",
    "mp_drawing = mp.solutions.drawing_utils\n",
    "mp_pose = mp.solutions.pose"
   ]
  },
  {
   "cell_type": "code",
   "execution_count": 7,
   "id": "28fe4074",
   "metadata": {},
   "outputs": [],
   "source": [
    "def calculate_angle(a, b, c):\n",
    "    a = np.array(a)  # First joint\n",
    "    b = np.array(b)  # Middle joint\n",
    "    c = np.array(c)  # End joint\n",
    "    \n",
    "    ba = a - b\n",
    "    bc = c - b\n",
    "    \n",
    "    cosine_angle = np.dot(ba, bc) / (np.linalg.norm(ba) * np.linalg.norm(bc))\n",
    "    angle = np.arccos(cosine_angle)\n",
    "    return np.degrees(angle)"
   ]
  },
  {
   "cell_type": "code",
   "execution_count": 8,
   "id": "b84d4e51",
   "metadata": {},
   "outputs": [],
   "source": [
    "exercises = {\n",
    "    \"bicep_curl\": {\"joints\": [\"shoulder\", \"elbow\", \"wrist\"], \"min_angle\": 30, \"max_angle\": 160},\n",
    "    \"squat\": {\"joints\": [\"hip\", \"knee\", \"ankle\"], \"min_angle\": 90, \"max_angle\": 170},\n",
    "    \"push_up\": {\"joints\": [\"shoulder\", \"elbow\", \"wrist\"], \"min_angle\": 70, \"max_angle\": 160}\n",
    "}"
   ]
  },
  {
   "cell_type": "code",
   "execution_count": 9,
   "id": "04a71ba5",
   "metadata": {},
   "outputs": [
    {
     "name": "stdout",
     "output_type": "stream",
     "text": [
      "Invalid exercise. Defaulting to bicep_curl.\n"
     ]
    }
   ],
   "source": [
    "# Ask user for exercise selection\n",
    "exercise_name = input(\"Enter exercise (bicep_curl, squat, push_up): \").strip().lower()\n",
    "if exercise_name not in exercises:\n",
    "    print(\"Invalid exercise. Defaulting to bicep_curl.\")\n",
    "    exercise_name = \"bicep_curl\"\n",
    "exercise = exercises[exercise_name]\n"
   ]
  },
  {
   "cell_type": "code",
   "execution_count": 11,
   "id": "70b346f4",
   "metadata": {},
   "outputs": [
    {
     "name": "stderr",
     "output_type": "stream",
     "text": [
      "I0000 00:00:1739329620.204793  507816 gl_context.cc:369] GL version: 2.1 (2.1 Metal - 89.3), renderer: Apple M2 Pro\n",
      "W0000 00:00:1739329620.291018  590856 inference_feedback_manager.cc:114] Feedback manager requires a model with a single signature inference. Disabling support for feedback tensors.\n",
      "W0000 00:00:1739329620.305019  590861 inference_feedback_manager.cc:114] Feedback manager requires a model with a single signature inference. Disabling support for feedback tensors.\n"
     ]
    }
   ],
   "source": [
    "# Video capture\n",
    "cap = cv2.VideoCapture(0)\n",
    "\n",
    "# Exercise Tracking Variables\n",
    "counter = 0\n",
    "stage = None\n",
    "start_time = time.time()\n",
    "rep_times = []\n",
    "fatigue_threshold = 5  # Seconds per rep indicating fatigue\n",
    "\n",
    " \n",
    "with mp_pose.Pose(min_detection_confidence=0.5, min_tracking_confidence=0.5) as pose:\n",
    "    while cap.isOpened():\n",
    "        ret, frame = cap.read()\n",
    "        image = cv2.cvtColor(frame, cv2.COLOR_BGR2RGB)\n",
    "        image.flags.writeable = False\n",
    "        results = pose.process(image)\n",
    "        image.flags.writeable = True\n",
    "        image = cv2.cvtColor(image, cv2.COLOR_RGB2BGR)\n",
    "        \n",
    "        if results.pose_landmarks:\n",
    "            landmarks = results.pose_landmarks.landmark\n",
    "            \n",
    "            # Extract joint coordinates dynamically\n",
    "            joint_names = exercise[\"joints\"]\n",
    "            joint_coords = []\n",
    "            for joint in joint_names:\n",
    "                landmark_index = getattr(mp_pose.PoseLandmark, f\"LEFT_{joint.upper()}\").value\n",
    "                joint_coords.append([landmarks[landmark_index].x, landmarks[landmark_index].y])\n",
    "            \n",
    "            # Calculate angle for the selected exercise\n",
    "            angle = calculate_angle(*joint_coords)\n",
    "            \n",
    "            # Rep count logic\n",
    "            if angle < exercise[\"min_angle\"] and stage == 'down':\n",
    "                stage = 'up'\n",
    "                rep_times.append(time.time())\n",
    "            if angle > exercise[\"max_angle\"] and stage == 'up':\n",
    "                stage = 'down'\n",
    "                counter += 1\n",
    "                \n",
    "            # Display rep count and workout time\n",
    "            elapsed_time = int(time.time() - start_time)\n",
    "            cv2.putText(image, f'Reps: {counter}', (10, 50), \n",
    "                        cv2.FONT_HERSHEY_SIMPLEX, 1, (0, 255, 0), 2, cv2.LINE_AA)\n",
    "            cv2.putText(image, f'Angle: {int(angle)}', (10, 100), \n",
    "                        cv2.FONT_HERSHEY_SIMPLEX, 1, (255, 255, 0), 2, cv2.LINE_AA)\n",
    "            cv2.putText(image, f'Time: {elapsed_time}s', (10, 150), \n",
    "                        cv2.FONT_HERSHEY_SIMPLEX, 1, (255, 0, 255), 2, cv2.LINE_AA)\n",
    "            \n",
    "            # Form correction feedback\n",
    "            if angle > exercise[\"max_angle\"]:\n",
    "                feedback = \"Extend fully!\"\n",
    "                color = (0, 0, 255)\n",
    "            elif angle < exercise[\"min_angle\"]:\n",
    "                feedback = \"Good form!\"\n",
    "                color = (0, 255, 0)\n",
    "            else:\n",
    "                feedback = \"Keep going!\"\n",
    "                color = (255, 255, 0)\n",
    "            \n",
    "            cv2.putText(image, feedback, (10, 250), \n",
    "                        cv2.FONT_HERSHEY_SIMPLEX, 1, color, 2, cv2.LINE_AA)\n",
    "            \n",
    "            # Fatigue detection\n",
    "            if len(rep_times) > 1:\n",
    "                avg_rep_time = (rep_times[-1] - rep_times[0]) / len(rep_times)\n",
    "                if avg_rep_time > fatigue_threshold:\n",
    "                    cv2.putText(image, \"Fatigue Detected!\", (10, 300),\n",
    "                                cv2.FONT_HERSHEY_SIMPLEX, 1, (0, 0, 255), 2, cv2.LINE_AA)\n",
    "        \n",
    "        # Show image\n",
    "        cv2.imshow('Exercise Tracker', image)\n",
    "        if cv2.waitKey(10) & 0xFF == ord('q'):\n",
    "            break\n",
    "    \n",
    "    cap.release()\n",
    "    cv2.destroyAllWindows()"
   ]
  }
 ],
 "metadata": {
  "kernelspec": {
   "display_name": "Python 3 (ipykernel)",
   "language": "python",
   "name": "python3"
  },
  "language_info": {
   "codemirror_mode": {
    "name": "ipython",
    "version": 3
   },
   "file_extension": ".py",
   "mimetype": "text/x-python",
   "name": "python",
   "nbconvert_exporter": "python",
   "pygments_lexer": "ipython3",
   "version": "3.12.1"
  }
 },
 "nbformat": 4,
 "nbformat_minor": 5
}
